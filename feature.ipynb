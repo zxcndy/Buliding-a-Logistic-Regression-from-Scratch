{
 "cells": [
  {
   "cell_type": "code",
   "execution_count": null,
   "metadata": {},
   "outputs": [],
   "source": [
    "import sys\n",
    "files = list(sys.argv)\n",
    "\n",
    "trainfile = files[1]\n",
    "validfile = files[2]\n",
    "testfile = files[3]\n",
    "dictionary = files[4]\n",
    "\n",
    "formatted_train_out = files[5]\n",
    "formatted_valid_out = files[6]\n",
    "formatted_test_out = files[7]\n",
    "\n",
    "feature_flag = files[8]"
   ]
  },
  {
   "cell_type": "markdown",
   "metadata": {},
   "source": [
    "trainfile = './handout/smalldata/smalltrain_data.tsv'\n",
    "validfile = './handout/smalldata/smallvalid_data.tsv'\n",
    "testfile = './handout/smalldata/smalltest_data.tsv'\n",
    "dictionary = './handout/dict.txt'\n",
    "\n",
    "formatted_train_out = 'train.tsv'\n",
    "formatted_valid_out = 'valid.tsv'\n",
    "formatted_test_out = 'test.tsv'\n",
    "\n",
    "feature_flag = \"2\""
   ]
  },
  {
   "cell_type": "code",
   "execution_count": null,
   "metadata": {},
   "outputs": [],
   "source": [
    "import csv\n",
    "\n",
    "train = [[str(code) for code in line.split('\\t')] for line in open(trainfile,'r').read().splitlines()]\n",
    "valid = [[str(code) for code in line.split('\\t')] for line in open(validfile,'r').read().splitlines()]\n",
    "test = [[str(code) for code in line.split('\\t')] for line in open(testfile,'r').read().splitlines()]\n",
    "dic = [[str(code) for code in line.split(' ')] for line in open(dictionary,'r').read().splitlines()]\n",
    "\n",
    "d = {}\n",
    "for item in dic:\n",
    "    d[item[0]] = item[1]\n",
    "\n",
    "if (int(feature_flag) == 1):\n",
    "    fFlag = 1\n",
    "else: \n",
    "    fFlag = 2"
   ]
  },
  {
   "cell_type": "code",
   "execution_count": null,
   "metadata": {},
   "outputs": [],
   "source": [
    "def modelOne_feature(data,dictionary):\n",
    "    formatted={}\n",
    "\n",
    "    for i in range(len(data)):\n",
    "        words = data[i][1].split(' ')\n",
    "        feature = {}\n",
    "        for word in words:\n",
    "            if (word in dictionary.keys()):\n",
    "                feature[dictionary[word]]= 1\n",
    "        formatted[i]= feature\n",
    "    return formatted"
   ]
  },
  {
   "cell_type": "code",
   "execution_count": null,
   "metadata": {},
   "outputs": [],
   "source": [
    "def modelTwo_feature(data,dictionary,threshold):\n",
    "    formatted={}\n",
    "\n",
    "    for i in range(len(data)):\n",
    "        words = data[i][1].split(' ')\n",
    "        feature = {}\n",
    "        uniqueWords = set(words)\n",
    "        for word in uniqueWords:\n",
    "            if (word in dictionary.keys()):\n",
    "                count = words.count(word)\n",
    "                if (count < threshold):\n",
    "                    feature[d[word]]= 1\n",
    "        formatted[i]= feature\n",
    "    return formatted\n",
    "\n",
    "def labels(data):\n",
    "    labels=[]\n",
    "\n",
    "    for i in range(len(data)):\n",
    "        labels.append(data[i][0])\n",
    "    return labels"
   ]
  },
  {
   "cell_type": "code",
   "execution_count": null,
   "metadata": {},
   "outputs": [],
   "source": [
    "if (fFlag == 1):\n",
    "    output_train = modelOne_feature(train,d)\n",
    "    output_test = modelOne_feature(test,d)\n",
    "    output_valid = modelOne_feature(valid,d)\n",
    "else:\n",
    "    output_train = modelTwo_feature(train,d,4)\n",
    "    output_test = modelTwo_feature(test,d,4)\n",
    "    output_valid = modelTwo_feature(valid,d,4)\n",
    "\n",
    "labels_train = labels(train)\n",
    "labels_test = labels(test)\n",
    "labels_valid = labels(valid)\n"
   ]
  },
  {
   "cell_type": "code",
   "execution_count": null,
   "metadata": {},
   "outputs": [],
   "source": [
    "print(len(output_train[0]))"
   ]
  },
  {
   "cell_type": "code",
   "execution_count": null,
   "metadata": {
    "scrolled": true
   },
   "outputs": [],
   "source": [
    "fTrain = open(formatted_train_out,'w')\n",
    "for i in range(len(output_train)):\n",
    "    line = str(labels_train[i])\n",
    "    for item in output_train[i]:\n",
    "        line = line + \"\\t\" + item + \":\"+ str(output_train[i][item])\n",
    "    line = line + \"\\n\"\n",
    "    line = line.replace(\"\\'\",\"\").replace(\"{\",\" \").replace(\"}\",\" \")\n",
    "    print(line)\n",
    "    fTrain.write(line)\n",
    "\n",
    "fTrain.close()"
   ]
  },
  {
   "cell_type": "code",
   "execution_count": null,
   "metadata": {},
   "outputs": [],
   "source": [
    "fValid = open(formatted_valid_out,'w')\n",
    "for i in range(len(output_valid)):\n",
    "    line = str(labels_valid[i])\n",
    "    for item in output_valid[i]:\n",
    "        line = line + \"\\t\" + item + \":\"+ str(output_valid[i][item])\n",
    "    line = line + \"\\n\"\n",
    "    line = line.replace(\"\\'\",\"\").replace(\"{\",\" \").replace(\"}\",\" \")\n",
    "    #print(line)\n",
    "    fValid.write(line)\n",
    "\n",
    "fValid.close()"
   ]
  },
  {
   "cell_type": "code",
   "execution_count": null,
   "metadata": {},
   "outputs": [],
   "source": [
    "fTest = open(formatted_test_out,'w')\n",
    "for i in range(len(output_test)):\n",
    "    line = str(labels_test[i])\n",
    "    for item in output_test[i]:\n",
    "        line = line + \"\\t\" + item + \":\"+ str(output_test[i][item])\n",
    "    line = line + \"\\n\"\n",
    "    line = line.replace(\"\\'\",\"\").replace(\"{\",\" \").replace(\"}\",\" \")\n",
    "    #print(line)\n",
    "    fTest.write(line)\n",
    "\n",
    "fTest.close()"
   ]
  }
 ],
 "metadata": {
  "kernelspec": {
   "display_name": "Python 3",
   "language": "python",
   "name": "python3"
  },
  "language_info": {
   "codemirror_mode": {
    "name": "ipython",
    "version": 3
   },
   "file_extension": ".py",
   "mimetype": "text/x-python",
   "name": "python",
   "nbconvert_exporter": "python",
   "pygments_lexer": "ipython3",
   "version": "3.6.8"
  }
 },
 "nbformat": 4,
 "nbformat_minor": 2
}
