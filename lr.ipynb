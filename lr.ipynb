{
 "cells": [
  {
   "cell_type": "code",
   "execution_count": null,
   "metadata": {},
   "outputs": [],
   "source": [
    "import sys\n",
    "files = list(sys.argv)\n",
    "\n",
    "formattedtrain = files[1]\n",
    "formattedvalid = files[2]\n",
    "formattedtest = files[3]\n",
    "\n",
    "dictionary = files[4]\n",
    "\n",
    "train_out_labels = files[5]\n",
    "test_out_labels = files[6]\n",
    "metrics = files[7]\n",
    "epoch = int(files[8])"
   ]
  },
  {
   "cell_type": "markdown",
   "metadata": {},
   "source": [
    "formattedtrain = './handout/largeoutput/model2_formatted_train.tsv'\n",
    "formattedvalid = './handout/largeoutput/model2_formatted_valid.tsv'\n",
    "formattedtest = './handout/largeoutput/model2_formatted_test.tsv'\n",
    "\n",
    "dictionary = './handout/dict.txt'\n",
    "\n",
    "train_out_labels = 'train_out.labels'\n",
    "test_out_labels = 'test_out.labels'\n",
    "metrics = 'metrics_out.txt'\n",
    "epoch = 60"
   ]
  },
  {
   "cell_type": "code",
   "execution_count": 80,
   "metadata": {},
   "outputs": [],
   "source": [
    "import csv\n",
    "\n",
    "train = [[str(code) for code in line.split('\\t')] for line in open(formattedtrain,'r').read().splitlines()]\n",
    "test = [[str(code) for code in line.split('\\t')] for line in open(formattedtest,'r').read().splitlines()]\n",
    "dic = [[str(code) for code in line.split(' ')] for line in open(dictionary,'r').read().splitlines()]\n",
    "\n",
    "train_y = []\n",
    "test_y = []\n",
    "train_x = []\n",
    "test_x = []\n",
    "\n",
    "for line in train:\n",
    "    train_y.append(int(line[0]))\n",
    "    line.pop(0)\n",
    "    x =[]\n",
    "    x.append(0)\n",
    "    for xid in line:\n",
    "        s = xid.split(':')\n",
    "        x.append(int(s[0])+1)\n",
    "    train_x.append(x)\n",
    "    \n",
    "for line in test:\n",
    "    test_y.append(int(line[0]))\n",
    "    line.pop(0)\n",
    "    x =[]\n",
    "    x.append(0)\n",
    "    for xid in line:\n",
    "        s = xid.split(':')\n",
    "        x.append(int(s[0])+1)\n",
    "    test_x.append(x)\n",
    "\n",
    "d = {}\n",
    "for item in dic:\n",
    "    d[item[0]] = item[1]"
   ]
  },
  {
   "cell_type": "code",
   "execution_count": 1,
   "metadata": {},
   "outputs": [],
   "source": [
    "import math\n",
    "def SGD(i, xi, yi, theta,learning_rate):\n",
    "    matrix = sum([theta[x] for x in xi])\n",
    "    \n",
    "    for x in xi:  \n",
    "        y = - yi*matrix + math.log(1+math.exp(matrix))\n",
    "        \n",
    "    return y"
   ]
  },
  {
   "cell_type": "code",
   "execution_count": null,
   "metadata": {},
   "outputs": [],
   "source": [
    "for x in range(10):\n",
    "    for i in range(x):\n",
    "        for i in range(len(train_x)):\n",
    "        theta_train = SGD(i,train_x[i],train_y[i],theta_train,0.1)    \n",
    "        plot()"
   ]
  },
  {
   "cell_type": "code",
   "execution_count": null,
   "metadata": {},
   "outputs": [],
   "source": [
    "import math\n",
    "def SGD_plot(i, xi, yi, theta,learning_rate):\n",
    "    matrix = sum([theta[x] for x in xi])\n",
    "    \n",
    "    for x in xi:  \n",
    "        p = - (yi - (math.exp(matrix)/(1+math.exp(matrix))))\n",
    "        theta[x] = theta[x] - (learning_rate*p)\n",
    "    return theta"
   ]
  },
  {
   "cell_type": "code",
   "execution_count": 82,
   "metadata": {},
   "outputs": [],
   "source": [
    "def pred(X, theta):\n",
    "    pred_y = []\n",
    "\n",
    "    for i in range(len(X)):\n",
    "        prob = 0\n",
    "        for x in X[i]:\n",
    "            prob = prob + theta[x]\n",
    "            yhat = 1/ (1+math.exp(-prob))\n",
    "        if (yhat >=0.5):\n",
    "            pred_y.append(1)\n",
    "        else:\n",
    "            pred_y.append(0)\n",
    "    return pred_y\n",
    "\n",
    "def error(pred_y, Y):\n",
    "    count = 0\n",
    "    for i in range(len(pred_y)):\n",
    "        if (pred_y[i] != Y[i]):\n",
    "            count = count +1\n",
    "    error = count/len(pred_y)\n",
    "\n",
    "    return error"
   ]
  },
  {
   "cell_type": "code",
   "execution_count": 83,
   "metadata": {},
   "outputs": [],
   "source": [
    "theta_train = []\n",
    "theta_test = []\n",
    "\n",
    "for i in range(len(d)+1):\n",
    "    theta_train.append(float(0))\n",
    "\n",
    "for i in range(len(d)+1):\n",
    "    theta_test.append(float(0))\n",
    "\n",
    "for e in range(epoch):    \n",
    "    for i in range(len(train_x)):\n",
    "        theta_train = SGD(i,train_x[i],train_y[i],theta_train,0.1)    \n",
    "\n",
    "yhat_train = pred(train_x, theta_train)\n",
    "yhat_test = pred(test_x, theta_train)\n",
    "\n",
    "error_train = error(yhat_train,train_y)\n",
    "error_test = error(yhat_test,test_y)"
   ]
  },
  {
   "cell_type": "code",
   "execution_count": 84,
   "metadata": {},
   "outputs": [
    {
     "name": "stdout",
     "output_type": "stream",
     "text": [
      "error(train):0.000000\n",
      "error(test):0.180000\n"
     ]
    }
   ],
   "source": [
    "print(\"error(train):\" + \"{:.6f}\".format(error_train))\n",
    "print(\"error(test):\" + \"{:.6f}\".format(error_test))\n",
    "#print(count)"
   ]
  },
  {
   "cell_type": "code",
   "execution_count": 85,
   "metadata": {},
   "outputs": [],
   "source": [
    "m = open(metrics,'w')\n",
    "m.write(\"error(train): \" + \"{:.6f}\".format(error_train)+\"\\n\")\n",
    "m.write(\"error(test): \" + \"{:.6f}\".format(error_test))\n",
    "m.close()"
   ]
  },
  {
   "cell_type": "code",
   "execution_count": 88,
   "metadata": {},
   "outputs": [],
   "source": [
    "l_train = open(train_out_labels,'w')\n",
    "\n",
    "for i in range(len(yhat_train)):\n",
    "    l_train.write(str(yhat_train[i])+\"\\n\")\n",
    "l_train.close()\n",
    "\n",
    "l_test = open(test_out_labels,'w')\n",
    "\n",
    "for i in range(len(yhat_test)):\n",
    "    l_test.write(str(yhat_test[i])+\"\\n\")\n",
    "l_test.close()"
   ]
  }
 ],
 "metadata": {
  "kernelspec": {
   "display_name": "Python 3",
   "language": "python",
   "name": "python3"
  },
  "language_info": {
   "codemirror_mode": {
    "name": "ipython",
    "version": 3
   },
   "file_extension": ".py",
   "mimetype": "text/x-python",
   "name": "python",
   "nbconvert_exporter": "python",
   "pygments_lexer": "ipython3",
   "version": "3.6.8"
  }
 },
 "nbformat": 4,
 "nbformat_minor": 2
}
